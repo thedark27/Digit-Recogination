{
 "cells": [
  {
   "cell_type": "markdown",
   "metadata": {},
   "source": [
    "# $MNIST   DATA     SET $"
   ]
  },
  {
   "cell_type": "code",
   "execution_count": 160,
   "metadata": {},
   "outputs": [],
   "source": [
    "import tensorflow as tf"
   ]
  },
  {
   "cell_type": "code",
   "execution_count": 161,
   "metadata": {},
   "outputs": [],
   "source": [
    "import matplotlib.pyplot as plt\n",
    "import numpy as np"
   ]
  },
  {
   "cell_type": "code",
   "execution_count": 162,
   "metadata": {},
   "outputs": [],
   "source": [
    "from tensorflow import keras\n",
    "from tensorflow.keras import layers\n",
    "from tensorflow.keras.datasets import mnist"
   ]
  },
  {
   "cell_type": "code",
   "execution_count": 173,
   "metadata": {},
   "outputs": [],
   "source": [
    "(x_train,y_train),(x_test,y_test)=mnist.load_data()"
   ]
  },
  {
   "cell_type": "code",
   "execution_count": 174,
   "metadata": {},
   "outputs": [
    {
     "name": "stdout",
     "output_type": "stream",
     "text": [
      "(28, 28)\n"
     ]
    }
   ],
   "source": [
    "print(x_train[0].shape)"
   ]
  },
  {
   "cell_type": "code",
   "execution_count": 175,
   "metadata": {},
   "outputs": [
    {
     "data": {
      "text/plain": [
       "<matplotlib.image.AxesImage at 0x1a508e98e80>"
      ]
     },
     "execution_count": 175,
     "metadata": {},
     "output_type": "execute_result"
    },
    {
     "data": {
      "image/png": "[encoded data removed]",
      "text/plain": [
       "<Figure size 432x288 with 1 Axes>"
      ]
     },
     "metadata": {
      "needs_background": "light"
     },
     "output_type": "display_data"
    }
   ],
   "source": [
    "plt.imshow(x_train[0])"
   ]
  },
  {
   "cell_type": "code",
   "execution_count": 166,
   "metadata": {},
   "outputs": [],
   "source": [
    "x_train=x_train.reshape(-1,28*28).astype(\"float32\")/255.0"
   ]
  },
  {
   "cell_type": "code",
   "execution_count": 167,
   "metadata": {},
   "outputs": [
    {
     "name": "stdout",
     "output_type": "stream",
     "text": [
      "(784,)\n"
     ]
    }
   ],
   "source": [
    "x_test=x_test.reshape(-1,28*28).astype(\"float32\")/255.0\n",
    "print(x_train[0].shape)"
   ]
  },
  {
   "cell_type": "code",
   "execution_count": 168,
   "metadata": {},
   "outputs": [
    {
     "name": "stdout",
     "output_type": "stream",
     "text": [
      "WARNING:tensorflow:Please add `keras.layers.InputLayer` instead of `keras.Input` to Sequential model. `keras.Input` is intended to be used by Functional model.\n",
      "Model: \"sequential_3\"\n",
      "_________________________________________________________________\n",
      "Layer (type)                 Output Shape              Param #   \n",
      "=================================================================\n",
      "dense_16 (Dense)             (None, 512)               401920    \n",
      "_________________________________________________________________\n",
      "dense_17 (Dense)             (None, 256)               131328    \n",
      "_________________________________________________________________\n",
      "dense_18 (Dense)             (None, 128)               32896     \n",
      "_________________________________________________________________\n",
      "dense_19 (Dense)             (None, 64)                8256      \n",
      "_________________________________________________________________\n",
      "dense_20 (Dense)             (None, 10)                650       \n",
      "=================================================================\n",
      "Total params: 575,050\n",
      "Trainable params: 575,050\n",
      "Non-trainable params: 0\n",
      "_________________________________________________________________\n",
      "None\n"
     ]
    }
   ],
   "source": [
    "#Sequential API \n",
    "Model=keras.Sequential(\n",
    "        [\n",
    "            keras.Input(shape=(28*28)),\n",
    "            layers.Dense(512,activation='relu'),\n",
    "            layers.Dense(256,activation='relu'),\n",
    "            layers.Dense(128,activation='relu'),\n",
    "            layers.Dense(64,activation='relu'),\n",
    "            layers.Dense(10),\n",
    "        ]\n",
    ")\n",
    "print(Model.summary())"
   ]
  },
  {
   "cell_type": "code",
   "execution_count": 169,
   "metadata": {},
   "outputs": [],
   "source": [
    "Model.compile(\n",
    "    loss=keras.losses.SparseCategoricalCrossentropy(from_logits=True),\n",
    "    optimizer=keras.optimizers.Adam(lr=0.01),\n",
    "    metrics=['accuracy'],\n",
    ")"
   ]
  },
  {
   "cell_type": "code",
   "execution_count": 170,
   "metadata": {},
   "outputs": [
    {
     "name": "stdout",
     "output_type": "stream",
     "text": [
      "Epoch 1/10\n",
      "1875/1875 - 12s - loss: 0.3414 - accuracy: 0.9113\n",
      "Epoch 2/10\n",
      "1875/1875 - 11s - loss: 0.2248 - accuracy: 0.9451\n",
      "Epoch 3/10\n",
      "1875/1875 - 11s - loss: 0.1895 - accuracy: 0.9561\n",
      "Epoch 4/10\n",
      "1875/1875 - 11s - loss: 0.1827 - accuracy: 0.9583\n",
      "Epoch 5/10\n",
      "1875/1875 - 13s - loss: 0.1604 - accuracy: 0.9630\n",
      "Epoch 6/10\n",
      "1875/1875 - 13s - loss: 0.1880 - accuracy: 0.9570\n",
      "Epoch 7/10\n",
      "1875/1875 - 15s - loss: 0.1496 - accuracy: 0.9661\n",
      "Epoch 8/10\n",
      "1875/1875 - 22s - loss: 0.2039 - accuracy: 0.9569\n",
      "Epoch 9/10\n",
      "1875/1875 - 20s - loss: 0.1954 - accuracy: 0.9586\n",
      "Epoch 10/10\n",
      "1875/1875 - 21s - loss: 0.1839 - accuracy: 0.9610\n",
      "313/313 - 2s - loss: 0.2242 - accuracy: 0.9571\n",
      "Model saved\n"
     ]
    }
   ],
   "source": [
    "Model.fit(x_train,y_train,batch_size=32,epochs=10,verbose=2)\n",
    "Model.evaluate(x_test,y_test,batch_size=32,verbose=2)\n",
    "Model.save('mnist_Ashish.h5')\n",
    "print(\"Model saved\")"
   ]
  },
  {
   "cell_type": "code",
   "execution_count": 188,
   "metadata": {},
   "outputs": [],
   "source": [
    "def result(img):\n",
    "        img=img.reshape(-1,28*28).astype(\"float32\")/255.0\n",
    "        p=Model.predict(img)\n",
    "        p=p.flatten()\n",
    "        maxi=0\n",
    "        j=0\n",
    "        i=0\n",
    "        for i in range(0,10):\n",
    "            if(maxi<p[i]):\n",
    "                maxi=p[i]\n",
    "                j=i       \n",
    "        print(\"This Image is \" +str(j))\n",
    "        print(p)\n",
    "           \n",
    "                              \n",
    "        "
   ]
  },
  {
   "cell_type": "code",
   "execution_count": 196,
   "metadata": {},
   "outputs": [
    {
     "data": {
      "text/plain": [
       "<matplotlib.image.AxesImage at 0x1a508545a00>"
      ]
     },
     "execution_count": 196,
     "metadata": {},
     "output_type": "execute_result"
    },
    {
     "data": {
      "image/png": "[encoded data removed]",
      "text/plain": [
       "<Figure size 432x288 with 1 Axes>"
      ]
     },
     "metadata": {
      "needs_background": "light"
     },
     "output_type": "display_data"
    }
   ],
   "source": [
    "plt.imshow(x_train[7])"
   ]
  },
  {
   "cell_type": "code",
   "execution_count": 197,
   "metadata": {},
   "outputs": [
    {
     "name": "stdout",
     "output_type": "stream",
     "text": [
      "This Image is 3\n",
      "[ -69.78573     13.119095    -1.7942907   81.48386    -88.29763\n",
      "   43.0224    -255.05988     16.106802    20.043812     7.9829493]\n"
     ]
    }
   ],
   "source": [
    "result(x_train[7])"
   ]
  },
  {
   "cell_type": "code",
   "execution_count": 159,
   "metadata": {},
   "outputs": [],
   "source": []
  },
  {
   "cell_type": "code",
   "execution_count": null,
   "metadata": {},
   "outputs": [],
   "source": []
  }
 ],
 "metadata": {
  "kernelspec": {
   "display_name": "Python 3",
   "language": "python",
   "name": "python3"
  },
  "language_info": {
   "codemirror_mode": {
    "name": "ipython",
    "version": 3
   },
   "file_extension": ".py",
   "mimetype": "text/x-python",
   "name": "python",
   "nbconvert_exporter": "python",
   "pygments_lexer": "ipython3",
   "version": "3.9.5"
  }
 },
 "nbformat": 4,
 "nbformat_minor": 4
}
