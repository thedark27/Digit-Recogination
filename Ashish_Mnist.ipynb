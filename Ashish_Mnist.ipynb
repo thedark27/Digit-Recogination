{
 "cells": [
  {
   "cell_type": "markdown",
   "metadata": {},
   "source": [
    "# $MNIST   DATA     SET $"
   ]
  },
  {
   "cell_type": "code",
   "execution_count": 26,
   "metadata": {},
   "outputs": [],
   "source": [
    "import tensorflow as tf"
   ]
  },
  {
   "cell_type": "code",
   "execution_count": 27,
   "metadata": {},
   "outputs": [],
   "source": [
    "import matplotlib.pyplot as plt\n",
    "import numpy as np"
   ]
  },
  {
   "cell_type": "code",
   "execution_count": 28,
   "metadata": {},
   "outputs": [],
   "source": [
    "from tensorflow import keras\n",
    "from tensorflow.keras import layers\n",
    "from tensorflow.keras.datasets import mnist"
   ]
  },
  {
   "cell_type": "code",
   "execution_count": 29,
   "metadata": {},
   "outputs": [],
   "source": [
    "(x_train,y_train),(x_test,y_test)=mnist.load_data()"
   ]
  },
  {
   "cell_type": "code",
   "execution_count": 30,
   "metadata": {},
   "outputs": [
    {
     "name": "stdout",
     "output_type": "stream",
     "text": [
      "(28, 28)\n"
     ]
    }
   ],
   "source": [
    "print(x_train[0].shape)"
   ]
  },
  {
   "cell_type": "code",
   "execution_count": 31,
   "metadata": {},
   "outputs": [
    {
     "data": {
      "text/plain": [
       "<matplotlib.image.AxesImage at 0x20198814550>"
      ]
     },
     "execution_count": 31,
     "metadata": {},
     "output_type": "execute_result"
    },
    {
     "data": {
      "image/png": "[encoded data removed]",
      "text/plain": [
       "<Figure size 432x288 with 1 Axes>"
      ]
     },
     "metadata": {
      "needs_background": "light"
     },
     "output_type": "display_data"
    }
   ],
   "source": [
    "plt.imshow(x_train[0])"
   ]
  },
  {
   "cell_type": "code",
   "execution_count": 32,
   "metadata": {},
   "outputs": [],
   "source": [
    "x_train=x_train.reshape(-1,28*28).astype(\"float32\")/255.0"
   ]
  },
  {
   "cell_type": "code",
   "execution_count": 33,
   "metadata": {},
   "outputs": [
    {
     "name": "stdout",
     "output_type": "stream",
     "text": [
      "(784,)\n"
     ]
    }
   ],
   "source": [
    "x_test=x_test.reshape(-1,28*28).astype(\"float32\")/255.0\n",
    "print(x_train[0].shape)"
   ]
  },
  {
   "cell_type": "code",
   "execution_count": 34,
   "metadata": {},
   "outputs": [
    {
     "name": "stdout",
     "output_type": "stream",
     "text": [
      "WARNING:tensorflow:Please add `keras.layers.InputLayer` instead of `keras.Input` to Sequential model. `keras.Input` is intended to be used by Functional model.\n",
      "Model: \"sequential_1\"\n",
      "_________________________________________________________________\n",
      "Layer (type)                 Output Shape              Param #   \n",
      "=================================================================\n",
      "dense_5 (Dense)              (None, 512)               401920    \n",
      "_________________________________________________________________\n",
      "dense_6 (Dense)              (None, 256)               131328    \n",
      "_________________________________________________________________\n",
      "dense_7 (Dense)              (None, 128)               32896     \n",
      "_________________________________________________________________\n",
      "dense_8 (Dense)              (None, 64)                8256      \n",
      "_________________________________________________________________\n",
      "dense_9 (Dense)              (None, 10)                650       \n",
      "=================================================================\n",
      "Total params: 575,050\n",
      "Trainable params: 575,050\n",
      "Non-trainable params: 0\n",
      "_________________________________________________________________\n",
      "None\n"
     ]
    }
   ],
   "source": [
    "#Sequential API \n",
    "Model=keras.Sequential(\n",
    "        [\n",
    "            keras.Input(shape=(28*28)),\n",
    "            layers.Dense(512,activation='relu'),\n",
    "            layers.Dense(256,activation='relu'),\n",
    "            layers.Dense(128,activation='relu'),\n",
    "            layers.Dense(64,activation='relu'),\n",
    "            layers.Dense(10),\n",
    "        ]\n",
    ")\n",
    "print(Model.summary())"
   ]
  },
  {
   "cell_type": "code",
   "execution_count": 35,
   "metadata": {},
   "outputs": [],
   "source": [
    "Model.compile(\n",
    "    loss=keras.losses.SparseCategoricalCrossentropy(from_logits=True),\n",
    "    optimizer=keras.optimizers.Adam(lr=0.01),\n",
    "    metrics=['accuracy'],\n",
    ")"
   ]
  },
  {
   "cell_type": "code",
   "execution_count": 36,
   "metadata": {},
   "outputs": [
    {
     "name": "stdout",
     "output_type": "stream",
     "text": [
      "Epoch 1/15\n",
      "1875/1875 - 13s - loss: 0.3552 - accuracy: 0.9055\n",
      "Epoch 2/15\n",
      "1875/1875 - 12s - loss: 0.2233 - accuracy: 0.9455\n",
      "Epoch 3/15\n",
      "1875/1875 - 12s - loss: 0.1886 - accuracy: 0.9560\n",
      "Epoch 4/15\n",
      "1875/1875 - 11s - loss: 0.1924 - accuracy: 0.9568\n",
      "Epoch 5/15\n",
      "1875/1875 - 11s - loss: 0.1749 - accuracy: 0.9607\n",
      "Epoch 6/15\n",
      "1875/1875 - 11s - loss: 0.1783 - accuracy: 0.9608\n",
      "Epoch 7/15\n",
      "1875/1875 - 12s - loss: 0.1639 - accuracy: 0.9639\n",
      "Epoch 8/15\n",
      "1875/1875 - 11s - loss: 0.1548 - accuracy: 0.9654\n",
      "Epoch 9/15\n",
      "1875/1875 - 11s - loss: 0.2334 - accuracy: 0.9518\n",
      "Epoch 10/15\n",
      "1875/1875 - 11s - loss: 0.1865 - accuracy: 0.9614\n",
      "Epoch 11/15\n",
      "1875/1875 - 12s - loss: 0.1976 - accuracy: 0.9589\n",
      "Epoch 12/15\n",
      "1875/1875 - 11s - loss: 0.1715 - accuracy: 0.9633\n",
      "Epoch 13/15\n",
      "1875/1875 - 11s - loss: 0.1792 - accuracy: 0.9610\n",
      "Epoch 14/15\n",
      "1875/1875 - 12s - loss: 0.2185 - accuracy: 0.9517\n",
      "Epoch 15/15\n",
      "1875/1875 - 12s - loss: 0.2126 - accuracy: 0.9536\n",
      "313/313 - 1s - loss: 0.2372 - accuracy: 0.9473\n",
      "Model saved\n"
     ]
    }
   ],
   "source": [
    "Model.fit(x_train,y_train,batch_size=32,epochs=15,verbose=2)\n",
    "Model.evaluate(x_test,y_test,batch_size=32,verbose=2)\n",
    "Model.save('mnist_Ashish.h5')\n",
    "print(\"Model saved\")"
   ]
  },
  {
   "cell_type": "code",
   "execution_count": 12,
   "metadata": {},
   "outputs": [],
   "source": [
    "def result(img):\n",
    "        img=img.reshape(-1,28*28).astype(\"float32\")/255.0\n",
    "        p=Model.predict(img)\n",
    "        p=p.flatten()\n",
    "        maxi=0\n",
    "        j=0\n",
    "        i=0\n",
    "        for i in range(0,10):\n",
    "            if(maxi<p[i]):\n",
    "                maxi=p[i]\n",
    "                j=i       \n",
    "        print(\"This Image is \" +str(j))\n",
    "        print(p)\n",
    "           \n",
    "                              \n",
    "        "
   ]
  },
  {
   "cell_type": "code",
   "execution_count": 22,
   "metadata": {},
   "outputs": [
    {
     "data": {
      "text/plain": [
       "<matplotlib.image.AxesImage at 0x2019ed19df0>"
      ]
     },
     "execution_count": 22,
     "metadata": {},
     "output_type": "execute_result"
    },
    {
     "data": {
      "image/png": "[encoded data removed]",
      "text/plain": [
       "<Figure size 432x288 with 1 Axes>"
      ]
     },
     "metadata": {
      "needs_background": "light"
     },
     "output_type": "display_data"
    }
   ],
   "source": [
    "plt.imshow(x_train[5])"
   ]
  },
  {
   "cell_type": "code",
   "execution_count": 23,
   "metadata": {},
   "outputs": [
    {
     "name": "stdout",
     "output_type": "stream",
     "text": [
      "This Image is 2\n",
      "[  0.4483928    4.096168    12.15118      0.79119265  -0.44725338\n",
      "  -5.8417773   -6.098239     5.2979755   -3.09441    -23.468513  ]\n"
     ]
    }
   ],
   "source": [
    "result(x_train[5])"
   ]
  },
  {
   "cell_type": "code",
   "execution_count": 44,
   "metadata": {},
   "outputs": [
    {
     "data": {
      "text/plain": [
       "<matplotlib.image.AxesImage at 0x20195d1ca00>"
      ]
     },
     "execution_count": 44,
     "metadata": {},
     "output_type": "execute_result"
    },
    {
     "data": {
      "image/png": "[encoded data removed]",
      "text/plain": [
       "<Figure size 432x288 with 1 Axes>"
      ]
     },
     "metadata": {
      "needs_background": "light"
     },
     "output_type": "display_data"
    }
   ],
   "source": [
    "from PIL import Image\n",
    "im = Image.open(r\"C:\\Users\\ashish_s\\OneDrive\\Desktop\\image_3.jpeg\")  \n",
    "plt.imshow(im) "
   ]
  },
  {
   "cell_type": "code",
   "execution_count": 45,
   "metadata": {},
   "outputs": [],
   "source": [
    "def Result(img):\n",
    "    img=img.resize((28,28))\n",
    "    img=img.convert('LA')\n",
    "    img = np.asarray(img)\n",
    "    img=img.reshape(-1,28*28).astype(\"float32\")/255.0\n",
    "    p=Model.predict([img])[0]\n",
    "    maxi=0\n",
    "    j=0\n",
    "    i=0\n",
    "    for i in range(0,10):\n",
    "        if(maxi<p[i]):\n",
    "            maxi=p[i]\n",
    "            j=i \n",
    "    print(p)        \n",
    "    print(\"This Image is \" +str(j))\n",
    "           "
   ]
  },
  {
   "cell_type": "code",
   "execution_count": 46,
   "metadata": {},
   "outputs": [
    {
     "name": "stdout",
     "output_type": "stream",
     "text": [
      "[-23.98673    11.642358   16.101152   21.905252   -6.0655556  14.459303\n",
      " -39.40998     8.433413   15.37852    11.629347 ]\n",
      "This Image is 3\n"
     ]
    }
   ],
   "source": [
    "Result(im)"
   ]
  },
  {
   "cell_type": "code",
   "execution_count": null,
   "metadata": {},
   "outputs": [],
   "source": []
  }
 ],
 "metadata": {
  "kernelspec": {
   "display_name": "Python 3",
   "language": "python",
   "name": "python3"
  },
  "language_info": {
   "codemirror_mode": {
    "name": "ipython",
    "version": 3
   },
   "file_extension": ".py",
   "mimetype": "text/x-python",
   "name": "python",
   "nbconvert_exporter": "python",
   "pygments_lexer": "ipython3",
   "version": "3.9.5"
  }
 },
 "nbformat": 4,
 "nbformat_minor": 4
}
